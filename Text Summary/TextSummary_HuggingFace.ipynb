{
 "cells": [
  {
   "cell_type": "markdown",
   "id": "5741d1d2",
   "metadata": {},
   "source": [
    "Install transformners and dependencies"
   ]
  },
  {
   "cell_type": "code",
   "execution_count": null,
   "id": "a3d822c5",
   "metadata": {},
   "outputs": [],
   "source": [
    "# pip install transformers"
   ]
  },
  {
   "cell_type": "code",
   "execution_count": 3,
   "id": "ae914c4b",
   "metadata": {},
   "outputs": [],
   "source": [
    "from transformers import pipeline"
   ]
  },
  {
   "cell_type": "markdown",
   "id": "8647274e",
   "metadata": {},
   "source": [
    "Load Summarization Pipeline"
   ]
  },
  {
   "cell_type": "code",
   "execution_count": 4,
   "id": "92940506",
   "metadata": {},
   "outputs": [
    {
     "name": "stderr",
     "output_type": "stream",
     "text": [
      "No model was supplied, defaulted to t5-small (https://huggingface.co/t5-small)\n"
     ]
    },
    {
     "data": {
      "application/vnd.jupyter.widget-view+json": {
       "model_id": "663a0f1c46314f17993de7901a01ac80",
       "version_major": 2,
       "version_minor": 0
      },
      "text/plain": [
       "Downloading:   0%|          | 0.00/1.17k [00:00<?, ?B/s]"
      ]
     },
     "metadata": {},
     "output_type": "display_data"
    },
    {
     "data": {
      "application/vnd.jupyter.widget-view+json": {
       "model_id": "75723ca794af477d92e37e1a553cf726",
       "version_major": 2,
       "version_minor": 0
      },
      "text/plain": [
       "Downloading:   0%|          | 0.00/231M [00:00<?, ?B/s]"
      ]
     },
     "metadata": {},
     "output_type": "display_data"
    },
    {
     "name": "stderr",
     "output_type": "stream",
     "text": [
      "All model checkpoint layers were used when initializing TFT5ForConditionalGeneration.\n",
      "\n",
      "All the layers of TFT5ForConditionalGeneration were initialized from the model checkpoint at t5-small.\n",
      "If your task is similar to the task the model of the checkpoint was trained on, you can already use TFT5ForConditionalGeneration for predictions without further training.\n"
     ]
    },
    {
     "data": {
      "application/vnd.jupyter.widget-view+json": {
       "model_id": "b37e6c65cac546e089df960205a8855f",
       "version_major": 2,
       "version_minor": 0
      },
      "text/plain": [
       "Downloading:   0%|          | 0.00/773k [00:00<?, ?B/s]"
      ]
     },
     "metadata": {},
     "output_type": "display_data"
    },
    {
     "data": {
      "application/vnd.jupyter.widget-view+json": {
       "model_id": "ecc5890af044407fa08ed29d827e8cf6",
       "version_major": 2,
       "version_minor": 0
      },
      "text/plain": [
       "Downloading:   0%|          | 0.00/1.32M [00:00<?, ?B/s]"
      ]
     },
     "metadata": {},
     "output_type": "display_data"
    }
   ],
   "source": [
    "summarizer=pipeline('summarization')"
   ]
  },
  {
   "cell_type": "markdown",
   "id": "6ccbba97",
   "metadata": {},
   "source": [
    "Summarize text"
   ]
  },
  {
   "cell_type": "code",
   "execution_count": 5,
   "id": "f86dddda",
   "metadata": {},
   "outputs": [],
   "source": [
    "article= \"\"\"\n",
    "\n",
    "\n",
    "They read like messages from one of the creepier dating apps, or else the sort of unwanted lechery with which many young women on social media are grimly familiar.\n",
    "\n",
    "One man suggests sharing “a large bed, we could sleep together” and then letting “what we both want happen”. Another is keen to let the recipient know she is “so beautiful”, while a third immediately asks, “Are you single?” But these aren’t just any old clumsy sexual overtures. These are messages left for women fleeing war-torn Ukraine, on a Facebook group seeking to match refugees with Britons offering sanctuary. The grotesque parody of shelter some men see fit to offer is a chance to flee the threat of rape by Russian soldiers, but only for somewhere you might want to barricade yourself into the spare bedroom at night. An undercover reporter posing as a refugee found more than half the messages sent to her came from men living alone, some explicit about the strings attached to their offers.\n",
    "\n",
    "What kind of man, you may wonder, sees in a tragedy a sexual opportunity? Well, in Haiti after the 2010 earthquake, it was British aid workers who paid desperate locals for sex. In Somalia, ravaged by war, it was Belgian and Italian peacekeepers sent by the UN. In the makeshift refugee camps of northern France, it was people smugglers preying on potential clients. And now on the borders between Ukraine and its neighbours, it’s sex traffickers, masquerading as good Samaritans offering unwary women a lift.\n",
    "\n",
    "Wherever there is conflict, there is chaos and disruption and unguarded moments for women and children, and with depressing predictability some will always seek to exploit that. But it is the predictability that makes it more preventable. The UN has now asked the British government to ban single men from housing female refugees, advice that Michael Gove (the cabinet minister in charge of the refugee matching scheme) should act on and make policy. The more complex emerging challenge, however, is what to do about the horrific scale of systematic sexual violence emerging inside Ukraine itself, as the Russian retreat from occupied towns and villages frees victims to emerge and tell their stories.\n",
    "\n",
    "As the war correspondent Christina Lamb writes bleakly in her book Our Bodies, Their Battlefield, rape is “the cheapest weapon known to man”, one deployed every bit as strategically and deliberately as bombs and bullets. The aim is to intimidate, degrade and terrify civilians, and in some cultures to ensure victims are rejected by their own families. But some of the stories emerging from Ukraine now have a particularly chilling dimension, one all too familiar in wars of ethnic cleansing, which is the attempt to force women to bear the invading army’s children.\n",
    "\n",
    "In the rape camps set up by Serbian soldiers during the Balkan wars, victims were told they would be forced to bear Serbian babies. In Iraq, Islamic State systematically trafficked and sexually enslaved women from the Yazidi minority as part of a campaign to destroy the community from within, knowing the children born of rape would be deemed Muslims and not Yazidi.\n",
    "\n",
    "Now Ukraine’s human rights ombudsman, Lyudmyla Denisova, reports that in Bucha, 25 girls and women aged 14 to 24 were held in a basement by Russian soldiers who threatened to “rape them to the point where they wouldn’t want sexual contact with any man, to prevent them from having Ukrainian children.” Nine of them are now pregnant. The brutal message is that even if Ukrainians won’t submit to being Russian, their unborn children will have no choice. Meanwhile, Kyiv claims Ukrainian children from occupied cities have been forcibly moved across the border, fast-tracked for adoption by Russian families. When the US president, Joe Biden, talked this week of genocide in Ukraine, lawyers responded that there wasn’t yet enough evidence to meet the legal threshold for such a charge. But at the very least, the propaganda coming out of Moscow suggests this war isn’t simply over territory or strategic interests; that it is increasingly about eradicating the very idea of being Ukrainian, submerging national identity into some twisted fantasy of a Greater Russia. These are war crimes, every bit as much as chemical weapons attacks, and must be prosecuted as vigorously.\n",
    "\n",
    "The foreign secretary, Liz Truss, this week launched the Murad Code – named after Nadia Murad, a Nobel peace prize-winning Yazidi woman who survived capture by IS – which is a welcome move to improve the collection of evidence from survivors worldwide. But Ukraine is already diligently gathering evidence. What it needs is help bringing the perpetrators to justice.\n",
    "\n",
    "The Tory peer Arminka Helic has called for a new permanent international body to investigate, prosecute and stamp out rape as a war crime. Helic knows what she’s talking about: a refugee from the Bosnian war, she went on to become special adviser to the then foreign secretary, William Hague. In 2012 she persuaded him to set up an initiative on sexual exploitation in war zones that is still bearing fruit today. But as she puts it, “impunity is the norm” still for a war crime that is less visible than bombed-out cities or mass graves, and often taken less seriously. Training and culture within armed forces worldwide can start to change that, but it’s only when commanding officers actually end up in the dock for overseeing sexual war crimes that the message will really hit home. We can, and must, do better than this.\n",
    "\n",
    "\n",
    "\"\"\""
   ]
  },
  {
   "cell_type": "code",
   "execution_count": 6,
   "id": "a2f07097",
   "metadata": {},
   "outputs": [
    {
     "name": "stderr",
     "output_type": "stream",
     "text": [
      "Token indices sequence length is longer than the specified maximum sequence length for this model (1262 > 512). Running this sequence through the model will result in indexing errors\n"
     ]
    },
    {
     "data": {
      "text/plain": [
       "[{'summary_text': 'rape is the cheapest weapon known to man, one deployed strategically as bombs and bullets . the aim is to intimidate, degrade and terrify civilians, and in some cultures to ensure victims are rejected by their own families . it is increasingly about eradicating the idea of being Ukrainian .'}]"
      ]
     },
     "execution_count": 6,
     "metadata": {},
     "output_type": "execute_result"
    }
   ],
   "source": [
    "summarizer(article, max_len=130, min_length=30, do_sample= False)"
   ]
  }
 ],
 "metadata": {
  "kernelspec": {
   "display_name": "Python 3 (ipykernel)",
   "language": "python",
   "name": "python3"
  },
  "language_info": {
   "codemirror_mode": {
    "name": "ipython",
    "version": 3
   },
   "file_extension": ".py",
   "mimetype": "text/x-python",
   "name": "python",
   "nbconvert_exporter": "python",
   "pygments_lexer": "ipython3",
   "version": "3.9.7"
  }
 },
 "nbformat": 4,
 "nbformat_minor": 5
}
