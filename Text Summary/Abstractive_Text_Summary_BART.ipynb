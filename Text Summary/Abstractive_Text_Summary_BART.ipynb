{
 "cells": [
  {
   "cell_type": "code",
   "execution_count": 1,
   "id": "6690116c",
   "metadata": {},
   "outputs": [],
   "source": [
    "# Importing the model\n",
    "from transformers import BartForConditionalGeneration, BartTokenizer, BartConfig\n",
    "import pandas as pd"
   ]
  },
  {
   "cell_type": "markdown",
   "id": "79e389eb",
   "metadata": {},
   "source": [
    "#### Load the dataset"
   ]
  },
  {
   "cell_type": "code",
   "execution_count": 2,
   "id": "658b0283",
   "metadata": {},
   "outputs": [
    {
     "data": {
      "text/html": [
       "<div>\n",
       "<style scoped>\n",
       "    .dataframe tbody tr th:only-of-type {\n",
       "        vertical-align: middle;\n",
       "    }\n",
       "\n",
       "    .dataframe tbody tr th {\n",
       "        vertical-align: top;\n",
       "    }\n",
       "\n",
       "    .dataframe thead th {\n",
       "        text-align: right;\n",
       "    }\n",
       "</style>\n",
       "<table border=\"1\" class=\"dataframe\">\n",
       "  <thead>\n",
       "    <tr style=\"text-align: right;\">\n",
       "      <th></th>\n",
       "      <th>category</th>\n",
       "      <th>summary</th>\n",
       "      <th>text</th>\n",
       "    </tr>\n",
       "  </thead>\n",
       "  <tbody>\n",
       "    <tr>\n",
       "      <th>0</th>\n",
       "      <td>entertainment</td>\n",
       "      <td>Nigel McCune from the Musicians' Union said Br...</td>\n",
       "      <td>Musicians to tackle US red tape  Musicians' gr...</td>\n",
       "    </tr>\n",
       "    <tr>\n",
       "      <th>1</th>\n",
       "      <td>entertainment</td>\n",
       "      <td>But they still want more.They have to want to ...</td>\n",
       "      <td>U2's desire to be number one  U2, who have won...</td>\n",
       "    </tr>\n",
       "    <tr>\n",
       "      <th>2</th>\n",
       "      <td>entertainment</td>\n",
       "      <td>Babyshambles, which he formed after his acrimo...</td>\n",
       "      <td>Rocker Doherty in on-stage fight  Rock singer ...</td>\n",
       "    </tr>\n",
       "    <tr>\n",
       "      <th>3</th>\n",
       "      <td>entertainment</td>\n",
       "      <td>A Series of Unfortunate Events also stars Scot...</td>\n",
       "      <td>Snicket tops US box office chart  The film ada...</td>\n",
       "    </tr>\n",
       "  </tbody>\n",
       "</table>\n",
       "</div>"
      ],
      "text/plain": [
       "        category                                            summary  \\\n",
       "0  entertainment  Nigel McCune from the Musicians' Union said Br...   \n",
       "1  entertainment  But they still want more.They have to want to ...   \n",
       "2  entertainment  Babyshambles, which he formed after his acrimo...   \n",
       "3  entertainment  A Series of Unfortunate Events also stars Scot...   \n",
       "\n",
       "                                                text  \n",
       "0  Musicians to tackle US red tape  Musicians' gr...  \n",
       "1  U2's desire to be number one  U2, who have won...  \n",
       "2  Rocker Doherty in on-stage fight  Rock singer ...  \n",
       "3  Snicket tops US box office chart  The film ada...  "
      ]
     },
     "execution_count": 2,
     "metadata": {},
     "output_type": "execute_result"
    }
   ],
   "source": [
    "data= pd.read_csv('C:/Users/User/Desktop/Text Summary/data/data_news.csv')\n",
    "data.head(4)"
   ]
  },
  {
   "cell_type": "code",
   "execution_count": 3,
   "id": "e753b76a",
   "metadata": {},
   "outputs": [],
   "source": [
    "# pip install PyTorch "
   ]
  },
  {
   "cell_type": "markdown",
   "id": "4e39f0ac",
   "metadata": {},
   "source": [
    "#### Loading the model and tokenizer for bart-large-cnn"
   ]
  },
  {
   "cell_type": "code",
   "execution_count": 4,
   "id": "870d56d8",
   "metadata": {},
   "outputs": [
    {
     "data": {
      "application/vnd.jupyter.widget-view+json": {
       "model_id": "ccb4337b15814afe8ee5f005a096decf",
       "version_major": 2,
       "version_minor": 0
      },
      "text/plain": [
       "Downloading:   0%|          | 0.00/1.51G [00:00<?, ?B/s]"
      ]
     },
     "metadata": {},
     "output_type": "display_data"
    }
   ],
   "source": [
    "# Loading the model and tokenizer for bart-large-cnn\n",
    "\n",
    "# bart-large-cnn model\n",
    "tokenizer = BartTokenizer.from_pretrained('facebook/bart-large-cnn')\n",
    "model = BartForConditionalGeneration.from_pretrained('facebook/bart-large-cnn')\n",
    "\n",
    "#bart base model\n",
    "#tokenizer = BartTokenizer.from_pretrained('facebook/bart-base')\n",
    "#model = BartForConditionalGeneration.from_pretrained('facebook/bart-base')"
   ]
  },
  {
   "cell_type": "code",
   "execution_count": 5,
   "id": "daf43745",
   "metadata": {},
   "outputs": [],
   "source": [
    "# set the text to try to summarize\n",
    "\n",
    "n = 15\n",
    "original_text = data.text.values[n]\n",
    "original_summary = data.summary.values[n]"
   ]
  },
  {
   "cell_type": "code",
   "execution_count": null,
   "id": "41837b7e",
   "metadata": {},
   "outputs": [],
   "source": [
    "# Encoding the inputs and passing them to model.generate()\n",
    "\n",
    "inputs = tokenizer.batch_encode_plus([original_text], return_tensors='pt')\n",
    "summary_ids = model.generate(inputs['input_ids'], early_stopping = True)"
   ]
  },
  {
   "cell_type": "code",
   "execution_count": null,
   "id": "eb9109fc",
   "metadata": {},
   "outputs": [],
   "source": [
    "# Decoding and printing the summary\n",
    "\n",
    "bart_summary = tokenizer.decode(summary_ids[0], skip_special_tokens=True)"
   ]
  },
  {
   "cell_type": "code",
   "execution_count": null,
   "id": "3a614674",
   "metadata": {},
   "outputs": [],
   "source": [
    "# let's try with BART\n",
    "\n",
    "print(f\"\"\"\n",
    "      Original Text: \n",
    "      \n",
    "      {original_text}\n",
    "      \n",
    "      Original Summary: \n",
    "      \n",
    "      {original_summary}\n",
    "      \n",
    "      Generated Summary: \n",
    "      \n",
    "      {bart_summary}\n",
    "      \n",
    "      \"\"\")"
   ]
  }
 ],
 "metadata": {
  "kernelspec": {
   "display_name": "Python 3 (ipykernel)",
   "language": "python",
   "name": "python3"
  },
  "language_info": {
   "codemirror_mode": {
    "name": "ipython",
    "version": 3
   },
   "file_extension": ".py",
   "mimetype": "text/x-python",
   "name": "python",
   "nbconvert_exporter": "python",
   "pygments_lexer": "ipython3",
   "version": "3.9.7"
  }
 },
 "nbformat": 4,
 "nbformat_minor": 5
}
