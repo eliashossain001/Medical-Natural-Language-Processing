{
  "nbformat": 4,
  "nbformat_minor": 0,
  "metadata": {
    "colab": {
      "name": "Keyword_Extraction.ipynb",
      "provenance": []
    },
    "kernelspec": {
      "name": "python3",
      "display_name": "Python 3"
    },
    "language_info": {
      "name": "python"
    }
  },
  "cells": [
    {
      "cell_type": "markdown",
      "source": [
        "Install the keyBERT library first"
      ],
      "metadata": {
        "id": "9y3F2XkQCPa5"
      }
    },
    {
      "cell_type": "code",
      "source": [
        "pip install keybert"
      ],
      "metadata": {
        "colab": {
          "base_uri": "https://localhost:8080/"
        },
        "id": "0Lz9YU0MCTOb",
        "outputId": "b1449dc1-93a5-4799-9bf3-475339f174cd"
      },
      "execution_count": 3,
      "outputs": [
        {
          "output_type": "stream",
          "name": "stdout",
          "text": [
            "Requirement already satisfied: keybert in /usr/local/lib/python3.7/dist-packages (0.5.1)\n",
            "Requirement already satisfied: sentence-transformers>=0.3.8 in /usr/local/lib/python3.7/dist-packages (from keybert) (2.2.0)\n",
            "Requirement already satisfied: rich>=10.4.0 in /usr/local/lib/python3.7/dist-packages (from keybert) (12.2.0)\n",
            "Requirement already satisfied: numpy>=1.18.5 in /usr/local/lib/python3.7/dist-packages (from keybert) (1.21.6)\n",
            "Requirement already satisfied: scikit-learn>=0.22.2 in /usr/local/lib/python3.7/dist-packages (from keybert) (1.0.2)\n",
            "Requirement already satisfied: pygments<3.0.0,>=2.6.0 in /usr/local/lib/python3.7/dist-packages (from rich>=10.4.0->keybert) (2.6.1)\n",
            "Requirement already satisfied: typing-extensions<5.0,>=4.0.0 in /usr/local/lib/python3.7/dist-packages (from rich>=10.4.0->keybert) (4.1.1)\n",
            "Requirement already satisfied: commonmark<0.10.0,>=0.9.0 in /usr/local/lib/python3.7/dist-packages (from rich>=10.4.0->keybert) (0.9.1)\n",
            "Requirement already satisfied: threadpoolctl>=2.0.0 in /usr/local/lib/python3.7/dist-packages (from scikit-learn>=0.22.2->keybert) (3.1.0)\n",
            "Requirement already satisfied: joblib>=0.11 in /usr/local/lib/python3.7/dist-packages (from scikit-learn>=0.22.2->keybert) (1.1.0)\n",
            "Requirement already satisfied: scipy>=1.1.0 in /usr/local/lib/python3.7/dist-packages (from scikit-learn>=0.22.2->keybert) (1.4.1)\n",
            "Requirement already satisfied: torch>=1.6.0 in /usr/local/lib/python3.7/dist-packages (from sentence-transformers>=0.3.8->keybert) (1.10.0+cu111)\n",
            "Requirement already satisfied: huggingface-hub in /usr/local/lib/python3.7/dist-packages (from sentence-transformers>=0.3.8->keybert) (0.5.1)\n",
            "Requirement already satisfied: torchvision in /usr/local/lib/python3.7/dist-packages (from sentence-transformers>=0.3.8->keybert) (0.11.1+cu111)\n",
            "Requirement already satisfied: transformers<5.0.0,>=4.6.0 in /usr/local/lib/python3.7/dist-packages (from sentence-transformers>=0.3.8->keybert) (4.18.0)\n",
            "Requirement already satisfied: tqdm in /usr/local/lib/python3.7/dist-packages (from sentence-transformers>=0.3.8->keybert) (4.64.0)\n",
            "Requirement already satisfied: sentencepiece in /usr/local/lib/python3.7/dist-packages (from sentence-transformers>=0.3.8->keybert) (0.1.95)\n",
            "Requirement already satisfied: nltk in /usr/local/lib/python3.7/dist-packages (from sentence-transformers>=0.3.8->keybert) (3.2.5)\n",
            "Requirement already satisfied: sacremoses in /usr/local/lib/python3.7/dist-packages (from transformers<5.0.0,>=4.6.0->sentence-transformers>=0.3.8->keybert) (0.0.49)\n",
            "Requirement already satisfied: importlib-metadata in /usr/local/lib/python3.7/dist-packages (from transformers<5.0.0,>=4.6.0->sentence-transformers>=0.3.8->keybert) (3.10.1)\n",
            "Requirement already satisfied: filelock in /usr/local/lib/python3.7/dist-packages (from transformers<5.0.0,>=4.6.0->sentence-transformers>=0.3.8->keybert) (3.6.0)\n",
            "Requirement already satisfied: requests in /usr/local/lib/python3.7/dist-packages (from transformers<5.0.0,>=4.6.0->sentence-transformers>=0.3.8->keybert) (2.27.1)\n",
            "Requirement already satisfied: regex!=2019.12.17 in /usr/local/lib/python3.7/dist-packages (from transformers<5.0.0,>=4.6.0->sentence-transformers>=0.3.8->keybert) (2019.12.20)\n",
            "Requirement already satisfied: pyyaml>=5.1 in /usr/local/lib/python3.7/dist-packages (from transformers<5.0.0,>=4.6.0->sentence-transformers>=0.3.8->keybert) (6.0)\n",
            "Requirement already satisfied: tokenizers!=0.11.3,<0.13,>=0.11.1 in /usr/local/lib/python3.7/dist-packages (from transformers<5.0.0,>=4.6.0->sentence-transformers>=0.3.8->keybert) (0.12.1)\n",
            "Requirement already satisfied: packaging>=20.0 in /usr/local/lib/python3.7/dist-packages (from transformers<5.0.0,>=4.6.0->sentence-transformers>=0.3.8->keybert) (21.3)\n",
            "Requirement already satisfied: pyparsing!=3.0.5,>=2.0.2 in /usr/local/lib/python3.7/dist-packages (from packaging>=20.0->transformers<5.0.0,>=4.6.0->sentence-transformers>=0.3.8->keybert) (3.0.8)\n",
            "Requirement already satisfied: zipp>=0.5 in /usr/local/lib/python3.7/dist-packages (from importlib-metadata->transformers<5.0.0,>=4.6.0->sentence-transformers>=0.3.8->keybert) (3.8.0)\n",
            "Requirement already satisfied: six in /usr/local/lib/python3.7/dist-packages (from nltk->sentence-transformers>=0.3.8->keybert) (1.15.0)\n",
            "Requirement already satisfied: idna<4,>=2.5 in /usr/local/lib/python3.7/dist-packages (from requests->transformers<5.0.0,>=4.6.0->sentence-transformers>=0.3.8->keybert) (2.10)\n",
            "Requirement already satisfied: charset-normalizer~=2.0.0 in /usr/local/lib/python3.7/dist-packages (from requests->transformers<5.0.0,>=4.6.0->sentence-transformers>=0.3.8->keybert) (2.0.12)\n",
            "Requirement already satisfied: urllib3<1.27,>=1.21.1 in /usr/local/lib/python3.7/dist-packages (from requests->transformers<5.0.0,>=4.6.0->sentence-transformers>=0.3.8->keybert) (1.24.3)\n",
            "Requirement already satisfied: certifi>=2017.4.17 in /usr/local/lib/python3.7/dist-packages (from requests->transformers<5.0.0,>=4.6.0->sentence-transformers>=0.3.8->keybert) (2021.10.8)\n",
            "Requirement already satisfied: click in /usr/local/lib/python3.7/dist-packages (from sacremoses->transformers<5.0.0,>=4.6.0->sentence-transformers>=0.3.8->keybert) (7.1.2)\n",
            "Requirement already satisfied: pillow!=8.3.0,>=5.3.0 in /usr/local/lib/python3.7/dist-packages (from torchvision->sentence-transformers>=0.3.8->keybert) (7.1.2)\n"
          ]
        }
      ]
    },
    {
      "cell_type": "code",
      "source": [
        "from keybert import KeyBERT"
      ],
      "metadata": {
        "id": "zhNOCTRWCe0v"
      },
      "execution_count": 4,
      "outputs": []
    },
    {
      "cell_type": "code",
      "source": [
        "doc = \"\"\"\n",
        "         Supervised learning is the machine learning task of learning a function that\n",
        "         maps an input to an output based on example input-output pairs. It infers a\n",
        "         function from labeled training data consisting of a set of training examples.\n",
        "         In supervised learning, each example is a pair consisting of an input object\n",
        "         (typically a vector) and a desired output value (also called the supervisory signal).\n",
        "         A supervised learning algorithm analyzes the training data and produces an inferred function,\n",
        "         which can be used for mapping new examples. An optimal scenario will allow for the\n",
        "         algorithm to correctly determine the class labels for unseen instances. This requires\n",
        "         the learning algorithm to generalize from the training data to unseen situations in a\n",
        "         'reasonable' way (see inductive bias).\n",
        "      \"\"\"\n",
        "\n",
        "kw_model= KeyBERT()\n",
        "keywords= kw_model.extract_keywords(doc)\n",
        "keywords"
      ],
      "metadata": {
        "colab": {
          "base_uri": "https://localhost:8080/"
        },
        "id": "NsKRi2zTCk76",
        "outputId": "c1993abc-31bf-446c-8292-7bc7957dc1ea"
      },
      "execution_count": 5,
      "outputs": [
        {
          "output_type": "execute_result",
          "data": {
            "text/plain": [
              "[('supervised', 0.6676),\n",
              " ('labeled', 0.4896),\n",
              " ('learning', 0.4813),\n",
              " ('training', 0.4134),\n",
              " ('labels', 0.3947)]"
            ]
          },
          "metadata": {},
          "execution_count": 5
        }
      ]
    },
    {
      "cell_type": "markdown",
      "source": [
        "keyphrase_ngram_range to set the length of the resulting keywords/keyphrases:"
      ],
      "metadata": {
        "id": "LBlFT-apDTzN"
      }
    },
    {
      "cell_type": "code",
      "source": [
        "kw_model.extract_keywords(doc, keyphrase_ngram_range=(1,1), stop_words=None)"
      ],
      "metadata": {
        "colab": {
          "base_uri": "https://localhost:8080/"
        },
        "id": "5aEFgezlDU2w",
        "outputId": "3d9abf3d-c894-4437-96a7-8730e8b9c539"
      },
      "execution_count": 6,
      "outputs": [
        {
          "output_type": "execute_result",
          "data": {
            "text/plain": [
              "[('supervised', 0.6676),\n",
              " ('labeled', 0.4896),\n",
              " ('learning', 0.4813),\n",
              " ('training', 0.4134),\n",
              " ('labels', 0.3947)]"
            ]
          },
          "metadata": {},
          "execution_count": 6
        }
      ]
    },
    {
      "cell_type": "markdown",
      "source": [
        "To extract keyphrases, simply set keyphrase_ngram_range to (1, 2) or higher depending on the number of words "
      ],
      "metadata": {
        "id": "E-I6iD8KEULf"
      }
    },
    {
      "cell_type": "code",
      "source": [
        "kw_model.extract_keywords(doc, keyphrase_ngram_range=(1,2), stop_words=None)"
      ],
      "metadata": {
        "colab": {
          "base_uri": "https://localhost:8080/"
        },
        "id": "8lz5SXGOEB3g",
        "outputId": "5693a0d7-e855-4a40-a4e5-13b4330edd10"
      },
      "execution_count": 7,
      "outputs": [
        {
          "output_type": "execute_result",
          "data": {
            "text/plain": [
              "[('supervised learning', 0.6779),\n",
              " ('supervised', 0.6676),\n",
              " ('signal supervised', 0.6152),\n",
              " ('in supervised', 0.6124),\n",
              " ('labeled training', 0.6013)]"
            ]
          },
          "metadata": {},
          "execution_count": 7
        }
      ]
    },
    {
      "cell_type": "markdown",
      "source": [
        "We can highlight the keywords in the document by simply setting hightlight:"
      ],
      "metadata": {
        "id": "nvai8jAYE26b"
      }
    },
    {
      "cell_type": "code",
      "source": [
        "keywords = kw_model.extract_keywords(doc, highlight=True)"
      ],
      "metadata": {
        "colab": {
          "base_uri": "https://localhost:8080/",
          "height": 161
        },
        "id": "Umw1liKGE3jo",
        "outputId": "78f399de-d92e-42f9-eba2-e35dc733f2e7"
      },
      "execution_count": 8,
      "outputs": [
        {
          "output_type": "display_data",
          "data": {
            "text/plain": [
              "\u001b[30;48;2;255;255;0mSupervised\u001b[0m \u001b[30;48;2;255;255;0mlearning\u001b[0m is the machine \u001b[30;48;2;255;255;0mlearning\u001b[0m task of \u001b[30;48;2;255;255;0mlearning\u001b[0m a function that maps an input to\n",
              "an output based on example input-output pairs. It infers a function from \u001b[30;48;2;255;255;0mlabeled\u001b[0m \u001b[30;48;2;255;255;0mtraining\u001b[0m \n",
              "data consisting of a set of \u001b[30;48;2;255;255;0mtraining\u001b[0m examples. In \u001b[30;48;2;255;255;0msupervised\u001b[0m learning, each example is a pair\n",
              "consisting of an input object (typically a vector) and a desired output value (also called \n",
              "the supervisory signal). A \u001b[30;48;2;255;255;0msupervised\u001b[0m \u001b[30;48;2;255;255;0mlearning\u001b[0m algorithm analyzes the \u001b[30;48;2;255;255;0mtraining\u001b[0m data and \n",
              "produces an inferred function, which can be used for mapping new examples. An optimal \n",
              "scenario will allow for the algorithm to correctly determine the class \u001b[30;48;2;255;255;0mlabels\u001b[0m for unseen \n",
              "instances. This requires the \u001b[30;48;2;255;255;0mlearning\u001b[0m algorithm to generalize from the \u001b[30;48;2;255;255;0mtraining\u001b[0m data to \n",
              "unseen situations in a 'reasonable' way (see inductive bias).\n"
            ],
            "text/html": [
              "<pre style=\"white-space:pre;overflow-x:auto;line-height:normal;font-family:Menlo,'DejaVu Sans Mono',consolas,'Courier New',monospace\"><span style=\"color: #000000; text-decoration-color: #000000; background-color: #ffff00\">Supervised</span> <span style=\"color: #000000; text-decoration-color: #000000; background-color: #ffff00\">learning</span> is the machine <span style=\"color: #000000; text-decoration-color: #000000; background-color: #ffff00\">learning</span> task of <span style=\"color: #000000; text-decoration-color: #000000; background-color: #ffff00\">learning</span> a function that maps an input to\n",
              "an output based on example input-output pairs. It infers a function from <span style=\"color: #000000; text-decoration-color: #000000; background-color: #ffff00\">labeled</span> <span style=\"color: #000000; text-decoration-color: #000000; background-color: #ffff00\">training</span> \n",
              "data consisting of a set of <span style=\"color: #000000; text-decoration-color: #000000; background-color: #ffff00\">training</span> examples. In <span style=\"color: #000000; text-decoration-color: #000000; background-color: #ffff00\">supervised</span> learning, each example is a pair\n",
              "consisting of an input object (typically a vector) and a desired output value (also called \n",
              "the supervisory signal). A <span style=\"color: #000000; text-decoration-color: #000000; background-color: #ffff00\">supervised</span> <span style=\"color: #000000; text-decoration-color: #000000; background-color: #ffff00\">learning</span> algorithm analyzes the <span style=\"color: #000000; text-decoration-color: #000000; background-color: #ffff00\">training</span> data and \n",
              "produces an inferred function, which can be used for mapping new examples. An optimal \n",
              "scenario will allow for the algorithm to correctly determine the class <span style=\"color: #000000; text-decoration-color: #000000; background-color: #ffff00\">labels</span> for unseen \n",
              "instances. This requires the <span style=\"color: #000000; text-decoration-color: #000000; background-color: #ffff00\">learning</span> algorithm to generalize from the <span style=\"color: #000000; text-decoration-color: #000000; background-color: #ffff00\">training</span> data to \n",
              "unseen situations in a 'reasonable' way (see inductive bias).\n",
              "</pre>\n"
            ]
          },
          "metadata": {}
        }
      ]
    },
    {
      "cell_type": "markdown",
      "source": [
        "Max sum similarity"
      ],
      "metadata": {
        "id": "wLNhHy7ZFFJb"
      }
    },
    {
      "cell_type": "code",
      "source": [
        "kw_model.extract_keywords(doc, keyphrase_ngram_range=(3, 3), stop_words='english',\n",
        "                              use_maxsum=True, nr_candidates=20, top_n=5)"
      ],
      "metadata": {
        "colab": {
          "base_uri": "https://localhost:8080/"
        },
        "id": "5KPjj3x5FHuc",
        "outputId": "c470b90a-8ba0-458b-d0b2-e66d86fab5d9"
      },
      "execution_count": 9,
      "outputs": [
        {
          "output_type": "execute_result",
          "data": {
            "text/plain": [
              "[('learning function maps', 0.5178),\n",
              " ('training data unseen', 0.5194),\n",
              " ('learning algorithm analyzes', 0.5208),\n",
              " ('machine learning task', 0.5628),\n",
              " ('supervisory signal supervised', 0.5802)]"
            ]
          },
          "metadata": {},
          "execution_count": 9
        }
      ]
    },
    {
      "cell_type": "markdown",
      "source": [
        "Maximal Marginal Relevance"
      ],
      "metadata": {
        "id": "_AFfYQdBFdfN"
      }
    },
    {
      "cell_type": "code",
      "source": [
        "kw_model.extract_keywords(doc, keyphrase_ngram_range=(3, 3), stop_words='english',\n",
        "                              use_mmr=True, diversity=0.7)"
      ],
      "metadata": {
        "colab": {
          "base_uri": "https://localhost:8080/"
        },
        "id": "Tefoa1DiFeAs",
        "outputId": "274db592-7641-4529-fced-6e2496bcbea5"
      },
      "execution_count": 10,
      "outputs": [
        {
          "output_type": "execute_result",
          "data": {
            "text/plain": [
              "[('supervised learning algorithm', 0.6992),\n",
              " ('pairs infers function', 0.1981),\n",
              " ('unseen situations reasonable', 0.2142),\n",
              " ('value called supervisory', 0.2895),\n",
              " ('class labels unseen', 0.3469)]"
            ]
          },
          "metadata": {},
          "execution_count": 10
        }
      ]
    },
    {
      "cell_type": "code",
      "source": [
        "kw_model.extract_keywords(doc, keyphrase_ngram_range=(3, 3), stop_words='english',use_mmr=True, diversity=0.2)"
      ],
      "metadata": {
        "colab": {
          "base_uri": "https://localhost:8080/"
        },
        "id": "Zfg085zWGBG4",
        "outputId": "8b407b77-966e-4acb-a7c2-92ff90671c19"
      },
      "execution_count": 11,
      "outputs": [
        {
          "output_type": "execute_result",
          "data": {
            "text/plain": [
              "[('supervised learning algorithm', 0.6992),\n",
              " ('function labeled training', 0.663),\n",
              " ('supervised learning example', 0.6807),\n",
              " ('supervisory signal supervised', 0.5802),\n",
              " ('supervised learning machine', 0.6706)]"
            ]
          },
          "metadata": {},
          "execution_count": 11
        }
      ]
    },
    {
      "cell_type": "markdown",
      "source": [
        "Embeding models"
      ],
      "metadata": {
        "id": "1iHDuwtpGhy9"
      }
    },
    {
      "cell_type": "code",
      "source": [
        "from keybert import KeyBERT\n",
        "kw_model1 = KeyBERT(model='all-MiniLM-L6-v2')"
      ],
      "metadata": {
        "id": "5-VmmohsGi7h"
      },
      "execution_count": 17,
      "outputs": []
    },
    {
      "cell_type": "code",
      "source": [
        "kw_model1.extract_keywords(doc, highlight=True)"
      ],
      "metadata": {
        "colab": {
          "base_uri": "https://localhost:8080/",
          "height": 248
        },
        "id": "14T7Cd6RLBCi",
        "outputId": "f02926dd-de0d-4bb6-9926-98ef67d09c40"
      },
      "execution_count": 18,
      "outputs": [
        {
          "output_type": "display_data",
          "data": {
            "text/plain": [
              "\u001b[30;48;2;255;255;0mSupervised\u001b[0m \u001b[30;48;2;255;255;0mlearning\u001b[0m is the machine \u001b[30;48;2;255;255;0mlearning\u001b[0m task of \u001b[30;48;2;255;255;0mlearning\u001b[0m a function that maps an input to\n",
              "an output based on example input-output pairs. It infers a function from \u001b[30;48;2;255;255;0mlabeled\u001b[0m \u001b[30;48;2;255;255;0mtraining\u001b[0m \n",
              "data consisting of a set of \u001b[30;48;2;255;255;0mtraining\u001b[0m examples. In \u001b[30;48;2;255;255;0msupervised\u001b[0m learning, each example is a pair\n",
              "consisting of an input object (typically a vector) and a desired output value (also called \n",
              "the supervisory signal). A \u001b[30;48;2;255;255;0msupervised\u001b[0m \u001b[30;48;2;255;255;0mlearning\u001b[0m algorithm analyzes the \u001b[30;48;2;255;255;0mtraining\u001b[0m data and \n",
              "produces an inferred function, which can be used for mapping new examples. An optimal \n",
              "scenario will allow for the algorithm to correctly determine the class \u001b[30;48;2;255;255;0mlabels\u001b[0m for unseen \n",
              "instances. This requires the \u001b[30;48;2;255;255;0mlearning\u001b[0m algorithm to generalize from the \u001b[30;48;2;255;255;0mtraining\u001b[0m data to \n",
              "unseen situations in a 'reasonable' way (see inductive bias).\n"
            ],
            "text/html": [
              "<pre style=\"white-space:pre;overflow-x:auto;line-height:normal;font-family:Menlo,'DejaVu Sans Mono',consolas,'Courier New',monospace\"><span style=\"color: #000000; text-decoration-color: #000000; background-color: #ffff00\">Supervised</span> <span style=\"color: #000000; text-decoration-color: #000000; background-color: #ffff00\">learning</span> is the machine <span style=\"color: #000000; text-decoration-color: #000000; background-color: #ffff00\">learning</span> task of <span style=\"color: #000000; text-decoration-color: #000000; background-color: #ffff00\">learning</span> a function that maps an input to\n",
              "an output based on example input-output pairs. It infers a function from <span style=\"color: #000000; text-decoration-color: #000000; background-color: #ffff00\">labeled</span> <span style=\"color: #000000; text-decoration-color: #000000; background-color: #ffff00\">training</span> \n",
              "data consisting of a set of <span style=\"color: #000000; text-decoration-color: #000000; background-color: #ffff00\">training</span> examples. In <span style=\"color: #000000; text-decoration-color: #000000; background-color: #ffff00\">supervised</span> learning, each example is a pair\n",
              "consisting of an input object (typically a vector) and a desired output value (also called \n",
              "the supervisory signal). A <span style=\"color: #000000; text-decoration-color: #000000; background-color: #ffff00\">supervised</span> <span style=\"color: #000000; text-decoration-color: #000000; background-color: #ffff00\">learning</span> algorithm analyzes the <span style=\"color: #000000; text-decoration-color: #000000; background-color: #ffff00\">training</span> data and \n",
              "produces an inferred function, which can be used for mapping new examples. An optimal \n",
              "scenario will allow for the algorithm to correctly determine the class <span style=\"color: #000000; text-decoration-color: #000000; background-color: #ffff00\">labels</span> for unseen \n",
              "instances. This requires the <span style=\"color: #000000; text-decoration-color: #000000; background-color: #ffff00\">learning</span> algorithm to generalize from the <span style=\"color: #000000; text-decoration-color: #000000; background-color: #ffff00\">training</span> data to \n",
              "unseen situations in a 'reasonable' way (see inductive bias).\n",
              "</pre>\n"
            ]
          },
          "metadata": {}
        },
        {
          "output_type": "execute_result",
          "data": {
            "text/plain": [
              "[('supervised', 0.6676),\n",
              " ('labeled', 0.4896),\n",
              " ('learning', 0.4813),\n",
              " ('training', 0.4134),\n",
              " ('labels', 0.3947)]"
            ]
          },
          "metadata": {},
          "execution_count": 18
        }
      ]
    },
    {
      "cell_type": "markdown",
      "source": [
        "sentence transformer"
      ],
      "metadata": {
        "id": "LTAgmEQiHHQw"
      }
    },
    {
      "cell_type": "code",
      "source": [
        "from keybert import KeyBERT\n",
        "from sentence_transformers import SentenceTransformer\n",
        "\n",
        "sentence_model = SentenceTransformer(\"all-MiniLM-L6-v2\")\n",
        "kw_model2 = KeyBERT(model=sentence_model)"
      ],
      "metadata": {
        "id": "Loo5_rJgHEcE"
      },
      "execution_count": 13,
      "outputs": []
    },
    {
      "cell_type": "code",
      "source": [
        "kw_model2.extract_keywords(doc, keyphrase_ngram_range=(3, 3), stop_words='english',use_mmr=True, diversity=0.2)"
      ],
      "metadata": {
        "colab": {
          "base_uri": "https://localhost:8080/"
        },
        "id": "q4IlVHnLKJSI",
        "outputId": "85c8c160-b240-4401-ebde-2e0a6063b5b7"
      },
      "execution_count": 15,
      "outputs": [
        {
          "output_type": "execute_result",
          "data": {
            "text/plain": [
              "[('supervised learning algorithm', 0.6992),\n",
              " ('function labeled training', 0.663),\n",
              " ('supervised learning example', 0.6807),\n",
              " ('supervisory signal supervised', 0.5802),\n",
              " ('supervised learning machine', 0.6706)]"
            ]
          },
          "metadata": {},
          "execution_count": 15
        }
      ]
    }
  ]
}