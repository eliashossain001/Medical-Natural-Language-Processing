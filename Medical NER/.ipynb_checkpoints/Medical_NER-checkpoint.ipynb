{
 "cells": [
  {
   "cell_type": "markdown",
   "id": "1e98be13",
   "metadata": {},
   "source": [
    "#### Download en_core_med7_lg for spaCy v2 here: https://www.dropbox.com/s/xbgsy6tyctvrqz3/en_core_med7_lg.tar.gz?dl=1"
   ]
  },
  {
   "cell_type": "code",
   "execution_count": 4,
   "id": "d1b81925",
   "metadata": {},
   "outputs": [],
   "source": [
    "import spacy\n",
    "import en_core_web_sm\n",
    "nlp = en_core_web_sm.load()"
   ]
  },
  {
   "cell_type": "code",
   "execution_count": 9,
   "id": "46d8948f",
   "metadata": {},
   "outputs": [],
   "source": [
    "def medicalNER():\n",
    "    \n",
    "    col_dict={}\n",
    "    sevel_colours=['#e6194B', '#3cb44b', '#ffe119', '#ffd8b1', '#f58231', '#f032e6', '#42d4f4']\n",
    "    for label, colour in zip(nlp.pipe_labels['ner'], seven_colours):\n",
    "        col_dict[label]= colour\n",
    "    options= {'ents': nlp.pipe_labels['ner'], 'colors':col_dict}  \n",
    "    \n",
    "    text='Objectives: The United Kingdom Parkinsons Disease Research Group (UKPDRG) trial found an increased mortality in patients with Parkinsons disease (PD) randomized to receive 10 mg selegiline per day and L-dopa compared with those taking L-dopa alone.'\n",
    "    doc = nlp(text)\n",
    "    spacy.displacy.render(doc, style='ent', jupyter=True, options=options)\n",
    "    \n",
    "    return [(ent.text, ent.label_) for ent in doc.ents]\n",
    "    "
   ]
  },
  {
   "cell_type": "code",
   "execution_count": 10,
   "id": "35666dc9",
   "metadata": {},
   "outputs": [
    {
     "ename": "NameError",
     "evalue": "name 'seven_colours' is not defined",
     "output_type": "error",
     "traceback": [
      "\u001b[1;31m---------------------------------------------------------------------------\u001b[0m",
      "\u001b[1;31mNameError\u001b[0m                                 Traceback (most recent call last)",
      "\u001b[1;32m~\\AppData\\Local\\Temp/ipykernel_11968/157336733.py\u001b[0m in \u001b[0;36m<module>\u001b[1;34m\u001b[0m\n\u001b[1;32m----> 1\u001b[1;33m \u001b[0mmedicalNER\u001b[0m\u001b[1;33m(\u001b[0m\u001b[1;33m)\u001b[0m\u001b[1;33m\u001b[0m\u001b[1;33m\u001b[0m\u001b[0m\n\u001b[0m",
      "\u001b[1;32m~\\AppData\\Local\\Temp/ipykernel_11968/709376452.py\u001b[0m in \u001b[0;36mmedicalNER\u001b[1;34m()\u001b[0m\n\u001b[0;32m      3\u001b[0m     \u001b[0mcol_dict\u001b[0m\u001b[1;33m=\u001b[0m\u001b[1;33m{\u001b[0m\u001b[1;33m}\u001b[0m\u001b[1;33m\u001b[0m\u001b[1;33m\u001b[0m\u001b[0m\n\u001b[0;32m      4\u001b[0m     \u001b[0msevel_colours\u001b[0m\u001b[1;33m=\u001b[0m\u001b[1;33m[\u001b[0m\u001b[1;34m'#e6194B'\u001b[0m\u001b[1;33m,\u001b[0m \u001b[1;34m'#3cb44b'\u001b[0m\u001b[1;33m,\u001b[0m \u001b[1;34m'#ffe119'\u001b[0m\u001b[1;33m,\u001b[0m \u001b[1;34m'#ffd8b1'\u001b[0m\u001b[1;33m,\u001b[0m \u001b[1;34m'#f58231'\u001b[0m\u001b[1;33m,\u001b[0m \u001b[1;34m'#f032e6'\u001b[0m\u001b[1;33m,\u001b[0m \u001b[1;34m'#42d4f4'\u001b[0m\u001b[1;33m]\u001b[0m\u001b[1;33m\u001b[0m\u001b[1;33m\u001b[0m\u001b[0m\n\u001b[1;32m----> 5\u001b[1;33m     \u001b[1;32mfor\u001b[0m \u001b[0mlabel\u001b[0m\u001b[1;33m,\u001b[0m \u001b[0mcolour\u001b[0m \u001b[1;32min\u001b[0m \u001b[0mzip\u001b[0m\u001b[1;33m(\u001b[0m\u001b[0mnlp\u001b[0m\u001b[1;33m.\u001b[0m\u001b[0mpipe_labels\u001b[0m\u001b[1;33m[\u001b[0m\u001b[1;34m'ner'\u001b[0m\u001b[1;33m]\u001b[0m\u001b[1;33m,\u001b[0m \u001b[0mseven_colours\u001b[0m\u001b[1;33m)\u001b[0m\u001b[1;33m:\u001b[0m\u001b[1;33m\u001b[0m\u001b[1;33m\u001b[0m\u001b[0m\n\u001b[0m\u001b[0;32m      6\u001b[0m         \u001b[0mcol_dict\u001b[0m\u001b[1;33m[\u001b[0m\u001b[0mlabel\u001b[0m\u001b[1;33m]\u001b[0m\u001b[1;33m=\u001b[0m \u001b[0mcolour\u001b[0m\u001b[1;33m\u001b[0m\u001b[1;33m\u001b[0m\u001b[0m\n\u001b[0;32m      7\u001b[0m     \u001b[0moptions\u001b[0m\u001b[1;33m=\u001b[0m \u001b[1;33m{\u001b[0m\u001b[1;34m'ents'\u001b[0m\u001b[1;33m:\u001b[0m \u001b[0mnlp\u001b[0m\u001b[1;33m.\u001b[0m\u001b[0mpipe_labels\u001b[0m\u001b[1;33m[\u001b[0m\u001b[1;34m'ner'\u001b[0m\u001b[1;33m]\u001b[0m\u001b[1;33m,\u001b[0m \u001b[1;34m'colors'\u001b[0m\u001b[1;33m:\u001b[0m\u001b[0mcol_dict\u001b[0m\u001b[1;33m}\u001b[0m\u001b[1;33m\u001b[0m\u001b[1;33m\u001b[0m\u001b[0m\n",
      "\u001b[1;31mNameError\u001b[0m: name 'seven_colours' is not defined"
     ]
    }
   ],
   "source": [
    "medicalNER()"
   ]
  },
  {
   "cell_type": "markdown",
   "id": "f16ba2a1",
   "metadata": {},
   "source": [
    "#### Experiment 2"
   ]
  },
  {
   "cell_type": "code",
   "execution_count": 11,
   "id": "1874ea98",
   "metadata": {},
   "outputs": [],
   "source": [
    "def medicalNER_Exp2():\n",
    "    \n",
    "    col_dict={}\n",
    "    sevel_colours=['#e6194B', '#3cb44b', '#ffe119', '#ffd8b1', '#f58231', '#f032e6', '#42d4f4']\n",
    "    for label, colour in zip(nlp.pipe_labels['ner'], seven_colours):\n",
    "        col_dict[label]= colour\n",
    "    options= {'ents': nlp.pipe_labels['ner'], 'colors':col_dict}  \n",
    "    \n",
    "    text='A patient was prescribed Magnesium hydroxide 400mg/5ml suspension PO of total 30ml bid for the next 5 days.'\n",
    "    doc = nlp(text)\n",
    "    spacy.displacy.render(doc, style='ent', jupyter=True, options=options)\n",
    "    \n",
    "    return [(ent.text, ent.label_) for ent in doc.ents]\n",
    "    "
   ]
  },
  {
   "cell_type": "code",
   "execution_count": 12,
   "id": "01af1ac3",
   "metadata": {},
   "outputs": [
    {
     "ename": "NameError",
     "evalue": "name 'seven_colours' is not defined",
     "output_type": "error",
     "traceback": [
      "\u001b[1;31m---------------------------------------------------------------------------\u001b[0m",
      "\u001b[1;31mNameError\u001b[0m                                 Traceback (most recent call last)",
      "\u001b[1;32m~\\AppData\\Local\\Temp/ipykernel_11968/2415590521.py\u001b[0m in \u001b[0;36m<module>\u001b[1;34m\u001b[0m\n\u001b[1;32m----> 1\u001b[1;33m \u001b[0mmedicalNER_Exp2\u001b[0m\u001b[1;33m(\u001b[0m\u001b[1;33m)\u001b[0m\u001b[1;33m\u001b[0m\u001b[1;33m\u001b[0m\u001b[0m\n\u001b[0m",
      "\u001b[1;32m~\\AppData\\Local\\Temp/ipykernel_11968/2676605177.py\u001b[0m in \u001b[0;36mmedicalNER_Exp2\u001b[1;34m()\u001b[0m\n\u001b[0;32m      3\u001b[0m     \u001b[0mcol_dict\u001b[0m\u001b[1;33m=\u001b[0m\u001b[1;33m{\u001b[0m\u001b[1;33m}\u001b[0m\u001b[1;33m\u001b[0m\u001b[1;33m\u001b[0m\u001b[0m\n\u001b[0;32m      4\u001b[0m     \u001b[0msevel_colours\u001b[0m\u001b[1;33m=\u001b[0m\u001b[1;33m[\u001b[0m\u001b[1;34m'#e6194B'\u001b[0m\u001b[1;33m,\u001b[0m \u001b[1;34m'#3cb44b'\u001b[0m\u001b[1;33m,\u001b[0m \u001b[1;34m'#ffe119'\u001b[0m\u001b[1;33m,\u001b[0m \u001b[1;34m'#ffd8b1'\u001b[0m\u001b[1;33m,\u001b[0m \u001b[1;34m'#f58231'\u001b[0m\u001b[1;33m,\u001b[0m \u001b[1;34m'#f032e6'\u001b[0m\u001b[1;33m,\u001b[0m \u001b[1;34m'#42d4f4'\u001b[0m\u001b[1;33m]\u001b[0m\u001b[1;33m\u001b[0m\u001b[1;33m\u001b[0m\u001b[0m\n\u001b[1;32m----> 5\u001b[1;33m     \u001b[1;32mfor\u001b[0m \u001b[0mlabel\u001b[0m\u001b[1;33m,\u001b[0m \u001b[0mcolour\u001b[0m \u001b[1;32min\u001b[0m \u001b[0mzip\u001b[0m\u001b[1;33m(\u001b[0m\u001b[0mnlp\u001b[0m\u001b[1;33m.\u001b[0m\u001b[0mpipe_labels\u001b[0m\u001b[1;33m[\u001b[0m\u001b[1;34m'ner'\u001b[0m\u001b[1;33m]\u001b[0m\u001b[1;33m,\u001b[0m \u001b[0mseven_colours\u001b[0m\u001b[1;33m)\u001b[0m\u001b[1;33m:\u001b[0m\u001b[1;33m\u001b[0m\u001b[1;33m\u001b[0m\u001b[0m\n\u001b[0m\u001b[0;32m      6\u001b[0m         \u001b[0mcol_dict\u001b[0m\u001b[1;33m[\u001b[0m\u001b[0mlabel\u001b[0m\u001b[1;33m]\u001b[0m\u001b[1;33m=\u001b[0m \u001b[0mcolour\u001b[0m\u001b[1;33m\u001b[0m\u001b[1;33m\u001b[0m\u001b[0m\n\u001b[0;32m      7\u001b[0m     \u001b[0moptions\u001b[0m\u001b[1;33m=\u001b[0m \u001b[1;33m{\u001b[0m\u001b[1;34m'ents'\u001b[0m\u001b[1;33m:\u001b[0m \u001b[0mnlp\u001b[0m\u001b[1;33m.\u001b[0m\u001b[0mpipe_labels\u001b[0m\u001b[1;33m[\u001b[0m\u001b[1;34m'ner'\u001b[0m\u001b[1;33m]\u001b[0m\u001b[1;33m,\u001b[0m \u001b[1;34m'colors'\u001b[0m\u001b[1;33m:\u001b[0m\u001b[0mcol_dict\u001b[0m\u001b[1;33m}\u001b[0m\u001b[1;33m\u001b[0m\u001b[1;33m\u001b[0m\u001b[0m\n",
      "\u001b[1;31mNameError\u001b[0m: name 'seven_colours' is not defined"
     ]
    }
   ],
   "source": [
    "medicalNER_Exp2()"
   ]
  },
  {
   "cell_type": "code",
   "execution_count": null,
   "id": "120f226c",
   "metadata": {},
   "outputs": [],
   "source": []
  }
 ],
 "metadata": {
  "kernelspec": {
   "display_name": "Python 3 (ipykernel)",
   "language": "python",
   "name": "python3"
  },
  "language_info": {
   "codemirror_mode": {
    "name": "ipython",
    "version": 3
   },
   "file_extension": ".py",
   "mimetype": "text/x-python",
   "name": "python",
   "nbconvert_exporter": "python",
   "pygments_lexer": "ipython3",
   "version": "3.9.7"
  }
 },
 "nbformat": 4,
 "nbformat_minor": 5
}
