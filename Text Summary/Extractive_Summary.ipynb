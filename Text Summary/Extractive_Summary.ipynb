{
 "cells": [
  {
   "cell_type": "markdown",
   "id": "7cd8eb5d",
   "metadata": {},
   "source": [
    "#### Extractive text summary"
   ]
  },
  {
   "cell_type": "code",
   "execution_count": 1,
   "id": "0d5de21a",
   "metadata": {},
   "outputs": [],
   "source": [
    "import pandas as pd\n",
    "from nltk.corpus import stopwords\n",
    "from nltk.tokenize import sent_tokenize\n",
    "from nltk.cluster.util import cosine_distance\n",
    "import numpy as np\n",
    "import networkx as nx\n",
    "import re"
   ]
  },
  {
   "cell_type": "code",
   "execution_count": 2,
   "id": "93ffe9b0",
   "metadata": {},
   "outputs": [
    {
     "data": {
      "text/html": [
       "<div>\n",
       "<style scoped>\n",
       "    .dataframe tbody tr th:only-of-type {\n",
       "        vertical-align: middle;\n",
       "    }\n",
       "\n",
       "    .dataframe tbody tr th {\n",
       "        vertical-align: top;\n",
       "    }\n",
       "\n",
       "    .dataframe thead th {\n",
       "        text-align: right;\n",
       "    }\n",
       "</style>\n",
       "<table border=\"1\" class=\"dataframe\">\n",
       "  <thead>\n",
       "    <tr style=\"text-align: right;\">\n",
       "      <th></th>\n",
       "      <th>category</th>\n",
       "      <th>summary</th>\n",
       "      <th>text</th>\n",
       "    </tr>\n",
       "  </thead>\n",
       "  <tbody>\n",
       "    <tr>\n",
       "      <th>0</th>\n",
       "      <td>entertainment</td>\n",
       "      <td>Nigel McCune from the Musicians' Union said Br...</td>\n",
       "      <td>Musicians to tackle US red tape  Musicians' gr...</td>\n",
       "    </tr>\n",
       "    <tr>\n",
       "      <th>1</th>\n",
       "      <td>entertainment</td>\n",
       "      <td>But they still want more.They have to want to ...</td>\n",
       "      <td>U2's desire to be number one  U2, who have won...</td>\n",
       "    </tr>\n",
       "    <tr>\n",
       "      <th>2</th>\n",
       "      <td>entertainment</td>\n",
       "      <td>Babyshambles, which he formed after his acrimo...</td>\n",
       "      <td>Rocker Doherty in on-stage fight  Rock singer ...</td>\n",
       "    </tr>\n",
       "    <tr>\n",
       "      <th>3</th>\n",
       "      <td>entertainment</td>\n",
       "      <td>A Series of Unfortunate Events also stars Scot...</td>\n",
       "      <td>Snicket tops US box office chart  The film ada...</td>\n",
       "    </tr>\n",
       "  </tbody>\n",
       "</table>\n",
       "</div>"
      ],
      "text/plain": [
       "        category                                            summary  \\\n",
       "0  entertainment  Nigel McCune from the Musicians' Union said Br...   \n",
       "1  entertainment  But they still want more.They have to want to ...   \n",
       "2  entertainment  Babyshambles, which he formed after his acrimo...   \n",
       "3  entertainment  A Series of Unfortunate Events also stars Scot...   \n",
       "\n",
       "                                                text  \n",
       "0  Musicians to tackle US red tape  Musicians' gr...  \n",
       "1  U2's desire to be number one  U2, who have won...  \n",
       "2  Rocker Doherty in on-stage fight  Rock singer ...  \n",
       "3  Snicket tops US box office chart  The film ada...  "
      ]
     },
     "execution_count": 2,
     "metadata": {},
     "output_type": "execute_result"
    }
   ],
   "source": [
    "data= pd.read_csv('C:/Users/User/Desktop/Text Summary/data/data_news.csv')\n",
    "data.head(4)"
   ]
  },
  {
   "cell_type": "code",
   "execution_count": 3,
   "id": "61ddeab6",
   "metadata": {},
   "outputs": [],
   "source": [
    "def build_similarity_matrix(sentences, stop_words):\n",
    "    # Create an empty similarity matrix\n",
    "    similarity_matrix = np.zeros((len(sentences), len(sentences)))\n",
    " \n",
    "    for idx1 in range(len(sentences)):\n",
    "        for idx2 in range(len(sentences)):\n",
    "            if idx1 == idx2: #ignore if both are same sentences\n",
    "                continue \n",
    "            similarity_matrix[idx1][idx2] = sentence_similarity(sentences[idx1], sentences[idx2], stop_words)\n",
    "\n",
    "    return similarity_matrix"
   ]
  },
  {
   "cell_type": "code",
   "execution_count": 4,
   "id": "75351d9f",
   "metadata": {},
   "outputs": [],
   "source": [
    "def sentence_similarity(sent1, sent2, stopwords=None):\n",
    "    if stopwords is None:\n",
    "        stopwords = []\n",
    " \n",
    "    sent1 = [w.lower() for w in sent1]\n",
    "    sent2 = [w.lower() for w in sent2]\n",
    " \n",
    "    all_words = list(set(sent1 + sent2))\n",
    " \n",
    "    vector1 = [0] * len(all_words)\n",
    "    vector2 = [0] * len(all_words)\n",
    " \n",
    "    # build the vector for the first sentence\n",
    "    for w in sent1:\n",
    "        if w in stopwords:\n",
    "            continue\n",
    "        vector1[all_words.index(w)] += 1\n",
    " \n",
    "    # build the vector for the second sentence\n",
    "    for w in sent2:\n",
    "        if w in stopwords:\n",
    "            continue\n",
    "        vector2[all_words.index(w)] += 1\n",
    " \n",
    "    return 1 - cosine_distance(vector1, vector2)"
   ]
  },
  {
   "cell_type": "code",
   "execution_count": 5,
   "id": "54465ba8",
   "metadata": {},
   "outputs": [],
   "source": [
    "def generate_summary(text, top_n=5):\n",
    "    stop_words = stopwords.words('english')\n",
    "    summarize_text = []\n",
    "    \n",
    "    # Step 1 - Read text and tokenize\n",
    "    sentences =  sent_tokenize(text)\n",
    "\n",
    "    # Step 2 - Generate Similary Martix across sentences\n",
    "    sentence_similarity_martix = build_similarity_matrix(sentences, stop_words)\n",
    "\n",
    "    # Step 3 - Rank sentences in similarity martix\n",
    "    sentence_similarity_graph = nx.from_numpy_array(sentence_similarity_martix)\n",
    "\n",
    "    scores = nx.pagerank(sentence_similarity_graph)\n",
    "\n",
    "    # Step 4 - Sort the rank and pick top sentences\n",
    "    ranked_sentence = sorted(((scores[i],s) for i,s in enumerate(sentences)), reverse=True)    \n",
    "    #print(\"Indexes of top ranked_sentence order are \", ranked_sentence)\n",
    "    \n",
    "    for i in range(top_n):\n",
    "        summarize_text.append(ranked_sentence[i][1])\n",
    "\n",
    "    # Step 5 - Offcourse, output the summarize text\n",
    "    return \" \".join(summarize_text)"
   ]
  },
  {
   "cell_type": "code",
   "execution_count": 6,
   "id": "4bbf0471",
   "metadata": {},
   "outputs": [],
   "source": [
    "# get data from df\n",
    "all_news_text = [news for news in data.text.values]\n",
    "all_summary_text = [summary for summary in data.summary.values]"
   ]
  },
  {
   "cell_type": "code",
   "execution_count": 8,
   "id": "2c955cb3",
   "metadata": {},
   "outputs": [
    {
     "name": "stderr",
     "output_type": "stream",
     "text": [
      "[nltk_data] Downloading package punkt to\n",
      "[nltk_data]     C:\\Users\\User\\AppData\\Roaming\\nltk_data...\n",
      "[nltk_data]   Unzipping tokenizers\\punkt.zip.\n"
     ]
    },
    {
     "data": {
      "text/plain": [
       "True"
      ]
     },
     "execution_count": 8,
     "metadata": {},
     "output_type": "execute_result"
    }
   ],
   "source": [
    "import nltk\n",
    "nltk.download('punkt')"
   ]
  },
  {
   "cell_type": "code",
   "execution_count": 9,
   "id": "22219034",
   "metadata": {},
   "outputs": [
    {
     "name": "stdout",
     "output_type": "stream",
     "text": [
      "\n",
      "      Original Text: \n",
      "      \n",
      "      Rapper Snoop Dogg sued for 'rape'  US rapper Snoop Dogg has been sued for $25m (£13m) by a make-up artist who claimed he and his entourage drugged and raped her two years ago.  The woman said she was assaulted after a recording of the Jimmy Kimmel Live TV show on the ABC network in 2003. The rapper's spokesman said the allegations were \"untrue\" and the woman was \"misusing the legal system as a means of extracting financial gain\". ABC said the claims had \"no merit\". The star has not been charged by police.  The lawsuit, filed in Los Angeles on Friday, says the woman's champagne was spiked and she was then assaulted. The rapper's spokesperson said: \"Snoop will have the opportunity to prove in a court of law that [the alleged victim] is opportunistic and deceitful. \"We are confident that in this case, [the alleged victim's] claims against Snoop Dogg will be rejected.\" The lawsuit names Snoop Dogg - real name Calvin Broadus - plus three associates, The Walt Disney Company and its parent company ABC Inc.  The woman waited two years to sue because she was trying to negotiate a settlement with the media companies, her lawyer, Perry Wander, said. Disney and ABC \"failed to provide a safe working environment for my client,\" he said. The legal action comes after the rap star sued a woman who claimed they tried to blackmail him to keep quiet about an alleged assault. The 32-year-old rapper has enjoyed six US top 10 albums since bursting onto the music scene with hit songs like What's My Name? and Gin and Juice in 1993. \n",
      "      \n",
      "      Original Summary: \n",
      "      \n",
      "      The woman said she was assaulted after a recording of the Jimmy Kimmel Live TV show on the ABC network in 2003.ABC said the claims had \"no merit\".The rapper's spokesman said the allegations were \"untrue\" and the woman was \"misusing the legal system as a means of extracting financial gain\".US rapper Snoop Dogg has been sued for $25m (£13m) by a make-up artist who claimed he and his entourage drugged and raped her two years ago.The woman waited two years to sue because she was trying to negotiate a settlement with the media companies, her lawyer, Perry Wander, said.The rapper's spokesperson said: \"Snoop will have the opportunity to prove in a court of law that [the alleged victim] is opportunistic and deceitful.\n",
      "      \n",
      "      Generated Summary: \n",
      "      \n",
      "      The 32-year-old rapper has enjoyed six US top 10 albums since bursting onto the music scene with hit songs like What's My Name? The lawsuit names Snoop Dogg - real name Calvin Broadus - plus three associates, The Walt Disney Company and its parent company ABC Inc. The rapper's spokesman said the allegations were \"untrue\" and the woman was \"misusing the legal system as a means of extracting financial gain\". The woman said she was assaulted after a recording of the Jimmy Kimmel Live TV show on the ABC network in 2003. The lawsuit, filed in Los Angeles on Friday, says the woman's champagne was spiked and she was then assaulted.\n",
      "      \n",
      "      \n"
     ]
    }
   ],
   "source": [
    "# let's begin\n",
    "\n",
    "n = 15\n",
    "\n",
    "print(f\"\"\"\n",
    "      Original Text: \n",
    "      \n",
    "      {all_news_text[n]}\n",
    "      \n",
    "      Original Summary: \n",
    "      \n",
    "      {all_summary_text[n]}\n",
    "      \n",
    "      Generated Summary: \n",
    "      \n",
    "      {generate_summary(all_news_text[n], 5)}\n",
    "      \n",
    "      \"\"\")"
   ]
  }
 ],
 "metadata": {
  "kernelspec": {
   "display_name": "Python 3 (ipykernel)",
   "language": "python",
   "name": "python3"
  },
  "language_info": {
   "codemirror_mode": {
    "name": "ipython",
    "version": 3
   },
   "file_extension": ".py",
   "mimetype": "text/x-python",
   "name": "python",
   "nbconvert_exporter": "python",
   "pygments_lexer": "ipython3",
   "version": "3.9.7"
  }
 },
 "nbformat": 4,
 "nbformat_minor": 5
}
